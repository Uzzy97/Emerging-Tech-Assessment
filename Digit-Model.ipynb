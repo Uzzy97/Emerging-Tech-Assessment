{
 "cells": [
  {
   "cell_type": "markdown",
   "metadata": {},
   "source": [
    "# Emerging Technologies Project\n",
    " - Usman Sattar\n",
    " - G00345816"
   ]
  },
  {
   "cell_type": "code",
   "execution_count": 47,
   "metadata": {},
   "outputs": [],
   "source": [
    "# Imports\n",
    "# Importing required imported, necessary for running the model.\n",
    "# Helps with mathematical and scientific operation\n",
    "import numpy as np\n",
    "# creates a figure - like graphs, plots\n",
    "import matplotlib.pyplot as plt\n",
    "# Keras is a high-level neural networks API, capable of running on top of TensorFlow\n",
    "import keras as kr\n",
    "import tensorflow as tf"
   ]
  },
  {
   "cell_type": "code",
   "execution_count": 48,
   "metadata": {},
   "outputs": [],
   "source": [
    "# Loading the files and return both training and testing sets\n",
    "(x_train, y_train), (x_test, y_test) = kr.datasets.mnist.load_data()\n",
    "\n",
    "# Scaling\n",
    "x_train = x_train.reshape(60000, 784)\n",
    "x_test = x_test.reshape(10000, 784)\n",
    "\n",
    "x_train = x_train.astype('float32')\n",
    "x_test = x_test.astype('float32')\n",
    "\n",
    "# Dividing the img by 255 for scaling purposes\n",
    "x_train = x_train/255\n",
    "x_test = x_test/255 \n",
    "\n",
    "y_train = kr.utils.np_utils.to_categorical(y_train, digits)\n",
    "y_test = kr.utils.np_utils.to_categorical(y_test, digits)"
   ]
  },
  {
   "cell_type": "code",
   "execution_count": 49,
   "metadata": {},
   "outputs": [
    {
     "data": {
      "image/png": "[encoded data removed]",
      "text/plain": [
       "<Figure size 2160x1440 with 100 Axes>"
      ]
     },
     "metadata": {},
     "output_type": "display_data"
    }
   ],
   "source": [
    "plt.figure(1, figsize=(30,20))\n",
    "# Loop for images\n",
    "for i in range(100):\n",
    "    plt.subplot(1,100,i+1)\n",
    "    \n",
    "    plt.imshow(x_train[i].reshape(28,28), cmap='gray', interpolation='nearest')\n",
    "    \n",
    "    plt.xticks([])\n",
    "    plt.yticks([])"
   ]
  },
  {
   "cell_type": "code",
   "execution_count": 50,
   "metadata": {},
   "outputs": [
    {
     "name": "stdout",
     "output_type": "stream",
     "text": [
      "Model Created\n",
      "Layers Added To The Model\n"
     ]
    }
   ],
   "source": [
    "# Creating the model\n",
    "model = kr.models.Sequential()\n",
    "\n",
    "print(\"Model Created\")\n",
    "\n",
    "# Adding layers to the model\n",
    "\n",
    "model.add(kr.layers.Dense(392, activation='relu', input_shape=(784,)))\n",
    "model.add(kr.layers.Dense(392, activation='relu'))\n",
    "\n",
    "model.add(kr.layers.Dropout(0.2))\n",
    "\n",
    "model.add(kr.layers.Dense(10, activation='softmax'))\n",
    "\n",
    "print(\"Layers Added To The Model\")"
   ]
  },
  {
   "cell_type": "code",
   "execution_count": 51,
   "metadata": {},
   "outputs": [
    {
     "name": "stdout",
     "output_type": "stream",
     "text": [
      "Model Summary\n",
      "Model: \"sequential_5\"\n",
      "_________________________________________________________________\n",
      "Layer (type)                 Output Shape              Param #   \n",
      "=================================================================\n",
      "dense_13 (Dense)             (None, 392)               307720    \n",
      "_________________________________________________________________\n",
      "dense_14 (Dense)             (None, 392)               154056    \n",
      "_________________________________________________________________\n",
      "dropout_5 (Dropout)          (None, 392)               0         \n",
      "_________________________________________________________________\n",
      "dense_15 (Dense)             (None, 10)                3930      \n",
      "=================================================================\n",
      "Total params: 465,706\n",
      "Trainable params: 465,706\n",
      "Non-trainable params: 0\n",
      "_________________________________________________________________\n"
     ]
    }
   ],
   "source": [
    "# Summerizing Model\n",
    "print(\"Model Summary\")\n",
    "model.summary()"
   ]
  },
  {
   "cell_type": "code",
   "execution_count": 52,
   "metadata": {},
   "outputs": [
    {
     "name": "stdout",
     "output_type": "stream",
     "text": [
      "Model Compiled\n"
     ]
    }
   ],
   "source": [
    "# Compiling Model\n",
    "model.compile(loss='categorical_crossentropy', optimizer='adam', metrics=['accuracy'])\n",
    "print(\"Model Compiled\")"
   ]
  },
  {
   "cell_type": "code",
   "execution_count": 53,
   "metadata": {},
   "outputs": [
    {
     "name": "stdout",
     "output_type": "stream",
     "text": [
      "Train on 60000 samples, validate on 10000 samples\n",
      "Epoch 1/5\n",
      "60000/60000 [==============================] - 18s 300us/step - loss: 0.2049 - accuracy: 0.9381 - val_loss: 0.1060 - val_accuracy: 0.9656\n",
      "Epoch 2/5\n",
      "60000/60000 [==============================] - 16s 264us/step - loss: 0.0844 - accuracy: 0.9735 - val_loss: 0.0792 - val_accuracy: 0.9735\n",
      "Epoch 3/5\n",
      "60000/60000 [==============================] - 17s 283us/step - loss: 0.0577 - accuracy: 0.9815 - val_loss: 0.0793 - val_accuracy: 0.9746\n",
      "Epoch 4/5\n",
      "60000/60000 [==============================] - 17s 285us/step - loss: 0.0425 - accuracy: 0.9864 - val_loss: 0.0835 - val_accuracy: 0.9766\n",
      "Epoch 5/5\n",
      "60000/60000 [==============================] - 18s 302us/step - loss: 0.0357 - accuracy: 0.9883 - val_loss: 0.0902 - val_accuracy: 0.9756\n"
     ]
    }
   ],
   "source": [
    "history = model.fit(x_train, y_train, batch_size=50, epochs=5, verbose=1, validation_data=(x_test, y_test))"
   ]
  },
  {
   "cell_type": "code",
   "execution_count": 54,
   "metadata": {},
   "outputs": [
    {
     "name": "stdout",
     "output_type": "stream",
     "text": [
      "Test cross-entropy loss: 0.024213245\n",
      "Test accuracy: 0.991999984\n"
     ]
    }
   ],
   "source": [
    "score = model.evaluate(x_train, y_train, verbose=0)\n",
    "print('Test cross-entropy loss: %0.9f' % score[0])\n",
    "print('Test accuracy: %0.9f' % score[1])"
   ]
  },
  {
   "cell_type": "code",
   "execution_count": 55,
   "metadata": {},
   "outputs": [
    {
     "name": "stdout",
     "output_type": "stream",
     "text": [
      "Saving Model\n"
     ]
    }
   ],
   "source": [
    "print(\"Saving Model\")\n",
    "model.save('model.h5')"
   ]
  },
  {
   "cell_type": "code",
   "execution_count": 56,
   "metadata": {},
   "outputs": [
    {
     "name": "stdout",
     "output_type": "stream",
     "text": [
      "Loading Model\n"
     ]
    }
   ],
   "source": [
    "print(\"Loading Model\")\n",
    "loadedModel = kr.models.load_model('model.h5')"
   ]
  },
  {
   "cell_type": "code",
   "execution_count": 57,
   "metadata": {},
   "outputs": [
    {
     "data": {
      "image/png": "[encoded data removed]",
      "text/plain": [
       "<Figure size 432x288 with 1 Axes>"
      ]
     },
     "metadata": {
      "needs_background": "light"
     },
     "output_type": "display_data"
    },
    {
     "data": {
      "text/plain": [
       "('Predicted Number: ', 7)"
      ]
     },
     "execution_count": 57,
     "metadata": {},
     "output_type": "execute_result"
    }
   ],
   "source": [
    "plt.imshow(x_test[75].reshape(28, 28), cmap=\"gray\")\n",
    "plt.show()\n",
    "\n",
    "\"Predicted Number: \", np.argmax(loadedModel.predict(x_test[75:76]))"
   ]
  },
  {
   "cell_type": "code",
   "execution_count": null,
   "metadata": {},
   "outputs": [],
   "source": []
  }
 ],
 "metadata": {
  "kernelspec": {
   "display_name": "Python 3",
   "language": "python",
   "name": "python3"
  },
  "language_info": {
   "codemirror_mode": {
    "name": "ipython",
    "version": 3
   },
   "file_extension": ".py",
   "mimetype": "text/x-python",
   "name": "python",
   "nbconvert_exporter": "python",
   "pygments_lexer": "ipython3",
   "version": "3.7.3"
  }
 },
 "nbformat": 4,
 "nbformat_minor": 2
}
